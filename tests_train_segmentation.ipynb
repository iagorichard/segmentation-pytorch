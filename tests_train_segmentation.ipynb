{
 "cells": [
  {
   "cell_type": "code",
   "execution_count": null,
   "metadata": {},
   "outputs": [],
   "source": [
    "#from src.models.unet import UNet\n",
    "from src.train import Train\n",
    "from src.general import iterate_dict, create_checkpoints_folders\n",
    "from src.dataset_pytorch import DatasetRetriever\n",
    "from src.model_generator import ModelGenerator\n",
    "\n",
    "import os\n",
    "import torch\n",
    "import warnings"
   ]
  },
  {
   "cell_type": "code",
   "execution_count": null,
   "metadata": {},
   "outputs": [],
   "source": [
    "warnings.filterwarnings(\"ignore\", message=\"Applied workaround for CuDNN issue\") #ignora o warn do cudnn"
   ]
  },
  {
   "cell_type": "code",
   "execution_count": null,
   "metadata": {},
   "outputs": [],
   "source": [
    "BS   = 32\n",
    "WKRS = 2\n",
    "\n",
    "INFOS        = {\n",
    "                \"checkpoints_folder\": \"checkpoints\",\n",
    "                \"dataset_name\": \"mirc\",\n",
    "                \"subset\": \"multi\",\n",
    "                \"task\": \"segmentation\",\n",
    "                \"learning\": \"dl\"\n",
    "                }\n",
    "\n",
    "IMG_DIR      = os.path.join(\"dataset\", INFOS[\"dataset_name\"], \"selected_frames\", INFOS[\"subset\"]) + os.sep\n",
    "MASK_DIR     = os.path.join(\"dataset\", INFOS[\"dataset_name\"], \"annotations\", INFOS[\"subset\"]) + os.sep\n",
    "VAL_SIZE     = 0.2 #valor de produção é 0.2 e lembrar de colocar rapid tests = False\n",
    "NUM_CHANNELS = 3\n",
    "NUM_CLASSES  = 2\n",
    "MODELS_LIST  = [\"unet\"]\n",
    "EPOCHS       = 5"
   ]
  },
  {
   "cell_type": "code",
   "execution_count": null,
   "metadata": {},
   "outputs": [],
   "source": [
    "#cria as pastas do chekcpoint\n",
    "create_checkpoints_folders(INFOS, MODELS_LIST)"
   ]
  },
  {
   "cell_type": "code",
   "execution_count": null,
   "metadata": {},
   "outputs": [],
   "source": [
    "#device\n",
    "device = torch.device(\"cuda\" if torch.cuda.is_available() else \"cpu\")\n",
    "\n",
    "# Criação dos modelos\n",
    "mg = ModelGenerator(MODELS_LIST, n_channels=NUM_CHANNELS, n_classes=NUM_CLASSES)\n",
    "\n",
    "# Criar o DataLoader\n",
    "dr = DatasetRetriever(IMG_DIR, MASK_DIR, BS, VAL_SIZE, rapid_tests=False)\n",
    "dataset_info = dr.get_dataloaders()"
   ]
  },
  {
   "cell_type": "code",
   "execution_count": null,
   "metadata": {},
   "outputs": [],
   "source": [
    "#módulo de treinamento\n",
    "for model in iterate_dict(mg.models):\n",
    "    train = Train(model, device, EPOCHS, BS, dataset_info, INFOS)\n",
    "    train.fit()"
   ]
  }
 ],
 "metadata": {
  "kernelspec": {
   "display_name": "phdfinal",
   "language": "python",
   "name": "python3"
  },
  "language_info": {
   "codemirror_mode": {
    "name": "ipython",
    "version": 3
   },
   "file_extension": ".py",
   "mimetype": "text/x-python",
   "name": "python",
   "nbconvert_exporter": "python",
   "pygments_lexer": "ipython3",
   "version": "3.8.18"
  }
 },
 "nbformat": 4,
 "nbformat_minor": 2
}
